{
 "cells": [
  {
   "cell_type": "code",
   "execution_count": 3,
   "id": "e3845a4c",
   "metadata": {},
   "outputs": [],
   "source": [
    "import ribopy\n",
    "from ribopy import Ribo\n",
    "from functions import get_sequence, get_cds_range_lookup, get_psite_offset\n",
    "import matplotlib.pyplot as plt\n",
    "import numpy as np\n",
    "from scipy import stats\n",
    "import pickle\n",
    "from matplotlib_venn import venn2\n",
    "from scipy.stats import zscore\n",
    "from PIL import Image"
   ]
  },
  {
   "cell_type": "code",
   "execution_count": 4,
   "id": "c3caa6fd",
   "metadata": {},
   "outputs": [],
   "source": [
    "# Initialize ribo object\n",
    "ribo_path = './mouse/all.ribo'\n",
    "ribo_object = Ribo(ribo_path, alias = ribopy.api.alias.apris_human_alias)\n",
    "alias = True"
   ]
  },
  {
   "cell_type": "markdown",
   "id": "344e16c7",
   "metadata": {},
   "source": [
    "# Quality control\n",
    "\n",
    "### Distribution of read lengths "
   ]
  },
  {
   "cell_type": "code",
   "execution_count": 5,
   "id": "e9b28a9b",
   "metadata": {},
   "outputs": [
    {
     "data": {
      "text/plain": [
       "<matplotlib.legend.Legend at 0x7fba2915b0d0>"
      ]
     },
     "execution_count": 5,
     "metadata": {},
     "output_type": "execute_result"
    }
   ],
   "source": [
    "# Plot length distribution\n",
    "\n",
    "# Retrieve information \n",
    "experiments = ribo_object.experiments\n",
    "length_dist = ribo_object.get_length_dist(region_name = \"CDS\")\n",
    "selected_data = length_dist.loc[:, experiments]\n",
    "norm_data = selected_data.div(selected_data.sum(axis=0), axis=1) * 100\n",
    "\n",
    "# Plot\n",
    "plt.figure()\n",
    "for experiment in experiments:\n",
    "    plt.plot(norm_data.index, norm_data[experiment], label=experiment)\n",
    "\n",
    "plt.xlabel('Read Length', fontsize=16)\n",
    "plt.ylabel('Frequency (%)', fontsize=16)\n",
    "plt.tick_params(axis='both', which='major', labelsize=16) \n",
    "plt.legend(fontsize=16)\n",
    "# plt.savefig('length_dist.png')"
   ]
  },
  {
   "cell_type": "markdown",
   "id": "d87cd588",
   "metadata": {},
   "source": [
    "Read lengths to be analyzed were determined to be 25-31 nucleotides.\n",
    "\n",
    "Experiments to be analyzed were determined to be ['WT_control_A', 'WT_10min_A', 'WT_30min_A', 'WT_1hr_A']"
   ]
  },
  {
   "cell_type": "code",
   "execution_count": 7,
   "id": "887aa6e1",
   "metadata": {},
   "outputs": [],
   "source": [
    "# Initialize variables\n",
    "min_len = 25\n",
    "max_len = 31\n",
    "experiments = ['WT_control_A', 'WT_10min_A', 'WT_30min_A', 'WT_1hr_A']"
   ]
  },
  {
   "cell_type": "markdown",
   "id": "a2395d03",
   "metadata": {},
   "source": [
    "### Metagene plot"
   ]
  },
  {
   "cell_type": "code",
   "execution_count": 8,
   "id": "039b5f35",
   "metadata": {},
   "outputs": [
    {
     "data": {
      "text/plain": [
       "<matplotlib.legend.Legend at 0x7fba38bbb850>"
      ]
     },
     "execution_count": 8,
     "metadata": {},
     "output_type": "execute_result"
    }
   ],
   "source": [
    "# Plot metagene radius\n",
    "\n",
    "# Retrieve information\n",
    "metagene = ribo_object.get_metagene(site_type=\"start\", range_lower = 25, range_upper = 31)\n",
    "selected_col = [i for i in range(-50,51)]\n",
    "metagene_selected = metagene[selected_col]\n",
    "selected_rows = metagene_selected.loc[experiments]\n",
    "selected_rows = selected_rows.T\n",
    "\n",
    "# Plot\n",
    "plt.figure()  \n",
    "for col in selected_rows.columns:\n",
    "    plt.plot(selected_rows.index, selected_rows[col], label=col)\n",
    "\n",
    "plt.xlabel('Position', fontsize=16)\n",
    "plt.ylabel('Frequency', fontsize=16)\n",
    "plt.tick_params(axis='both', which='major', labelsize=16)\n",
    "plt.legend(fontsize=16)\n",
    "# plt.savefig('metagene.png')"
   ]
  },
  {
   "cell_type": "markdown",
   "id": "37ec2fdd",
   "metadata": {},
   "source": [
    "P-site was calculated using the function get_psite_offset() in functions.py"
   ]
  },
  {
   "cell_type": "markdown",
   "id": "824bbc72",
   "metadata": {},
   "source": [
    "# Analysis"
   ]
  },
  {
   "cell_type": "markdown",
   "id": "8586ef87",
   "metadata": {},
   "source": [
    "### Normalization\n",
    "\n",
    "Adjusted coverage data of WT_control_A was compiled as adj_coverage_filtered_WT_control_A.pkl using adj_coverage_filtered.py"
   ]
  },
  {
   "cell_type": "code",
   "execution_count": 9,
   "id": "537e7cb8",
   "metadata": {},
   "outputs": [],
   "source": [
    "# Import pickle file\n",
    "pickle_path = 'adj_coverage_filtered_WT_control_A.pkl'\n",
    "with open(pickle_path, \"rb\") as f:\n",
    "    coverage = pickle.load(f)"
   ]
  },
  {
   "cell_type": "code",
   "execution_count": 10,
   "id": "c20dd52f",
   "metadata": {
    "scrolled": true
   },
   "outputs": [],
   "source": [
    "# Find z-scores\n",
    "zscores = {transcript: zscore(coverage) for transcript, coverage in coverage.items() if coverage is not None}\n",
    "\n",
    "# Find ribosome occupancy scores\n",
    "occ_scores = {transcript: coverage / np.mean(coverage) for transcript, coverage in coverage.items() if coverage is not None}"
   ]
  },
  {
   "cell_type": "code",
   "execution_count": 11,
   "id": "6f79d5ce",
   "metadata": {},
   "outputs": [
    {
     "name": "stdout",
     "output_type": "stream",
     "text": [
      "Correlation Coefficient: 0.9838822257588958\n"
     ]
    }
   ],
   "source": [
    "# Visualize relationship between two normalization methods\n",
    "\n",
    "zscores_values = np.concatenate(list(zscores.values()))\n",
    "occ_scores_values = np.concatenate(list(occ_scores.values()))\n",
    "\n",
    "# Fit a linear trendline\n",
    "slope, intercept = np.polyfit(zscores_values.flatten(), occ_scores_values.flatten(), 1)\n",
    "\n",
    "# Calculate correlation coefficient\n",
    "correlation_coefficient = np.corrcoef(zscores_values.flatten(), occ_scores_values.flatten())[0, 1]\n",
    "\n",
    "# Create a scatter plot\n",
    "plt.figure()\n",
    "plt.scatter(zscores_values.flatten(), occ_scores_values.flatten(), alpha=0.5)\n",
    "plt.plot(zscores_values.flatten(), slope * zscores_values.flatten() + intercept, color='red', label=f'Trendline: y = {slope:.2f}x + {intercept:.2f}')\n",
    "plt.xlabel('Z-scores', fontsize=16)\n",
    "plt.ylabel('Ribosome Occupancy Scores', fontsize=16)\n",
    "plt.tick_params(axis='both', which='major', labelsize=16)\n",
    "plt.legend(fontsize=12)\n",
    "plt.text(0.7, 0.05, f'Correlation Coefficient: {correlation_coefficient:.2f}', transform=plt.gca().transAxes, fontsize=16)\n",
    "# plt.savefig('norm_comparison.png')\n",
    "\n",
    "print(\"Correlation Coefficient:\", correlation_coefficient)"
   ]
  },
  {
   "cell_type": "markdown",
   "id": "90ef1285",
   "metadata": {},
   "source": [
    "### Determination of Stall Sites Using Z-Scores vs. Ribosome Occupancy Scores"
   ]
  },
  {
   "cell_type": "code",
   "execution_count": 95,
   "id": "648b3b01",
   "metadata": {},
   "outputs": [
    {
     "name": "stdout",
     "output_type": "stream",
     "text": [
      "Map2-204 5.419366962857549 15 5 0\n",
      "Tuba4a-202 5.8393623555061 2 5 0\n",
      "Itm2c-201 5.012680338444899 0 4 1\n",
      "Ptma-201 4.175631061627661 0 1 4\n",
      "Dbi-201 4.983326974426941 0 1 4\n",
      "Atp1b1-201 4.948561687022496 0 4 1\n",
      "Rgs4-201 5.180316330479082 0 2 3\n",
      "Atp1a2-201 5.795698003781794 11 5 0\n",
      "Sptan1-203 5.182313397549173 32 5 0\n",
      "Dnm1-201 5.608204350665705 12 5 0\n",
      "Chn1-203 6.076619188170188 2 5 0\n",
      "Atp5g3-202 4.662106692605509 0 3 2\n",
      "Hnrnpa3-204 5.359999182569686 1 5 0\n",
      "Slc1a2-202 5.987348532852421 2 5 0\n",
      "Scg5-201 5.247426509523621 0 3 2\n",
      "Prnp-201 5.240355013050321 0 4 1\n",
      "Snap25-201 4.922665273544599 0 2 3\n",
      "Dstn-201 5.028010355680239 0 4 1\n",
      "Cst3-201 6.032761444105643 0 1 4\n",
      "Fkbp1a-201 4.515470405140913 0 1 4\n",
      "Nnat-202 4.903957784784013 0 2 3\n",
      "Ywhab-201 6.734428895778821 0 4 1\n",
      "Gnas-202 5.133408005612939 1 5 0\n",
      "Eef1a2-201 5.849613514425174 1 5 0\n",
      "Stmn3-201 4.774559466874918 0 2 3\n",
      "Stmn2-201 4.914804480130146 0 2 3\n",
      "Fabp5-201 4.842107742151612 0 2 3\n",
      "Pfn2-201 6.058761392406486 0 1 4\n",
      "Gria2-201 6.04894287658894 6 5 0\n",
      "Mllt11-201 5.15284896483541 0 3 2\n",
      "Atp5pb-201 5.16992709316652 0 4 1\n",
      "Ppp3ca-201 5.2757153025740955 3 5 0\n",
      "Dnaja1-210 5.105215621004167 0 4 1\n",
      "Hpcal4-201 5.405827891859957 0 4 1\n",
      "Ncdn-201 5.658771874353761 1 5 0\n",
      "Hpca-204 5.199536389354739 0 1 4\n",
      "Atpif1-201 5.441044668087823 0 2 3\n",
      "Cdc42-202 5.402046843481387 0 2 3\n",
      "Clstn1-201 5.680753630074387 10 5 0\n",
      "Uchl1-201 5.0794424324025265 0 3 2\n",
      "Sparcl1-201 4.9078287676127115 6 5 0\n",
      "Atp5k-201 4.571477631731485 0 1 4\n",
      "Cplx1-201 4.7336042519339365 0 2 3\n",
      "Dynll1-201 4.517414806027499 0 1 4\n",
      "Cox6a1-201 5.9158603295994086 0 3 2\n",
      "Pebp1-201 5.199441752322105 0 2 3\n",
      "Atp2a2-201 5.61940754766157 12 5 0\n",
      "Mdh2-201 5.498304261103404 1 5 0\n",
      "Ywhag-201 4.836918565605339 0 4 1\n",
      "Rac1-201 5.956154607327694 0 2 3\n",
      "Atp5j2-202 5.592361246481142 0 2 3\n",
      "Hmgb1-201 5.167144705910751 0 4 1\n",
      "Ndufa4-205 5.312154055930615 0 3 2\n",
      "Ptn-201 5.752169555680202 0 4 1\n",
      "Hnrnpa2b1-202 4.07863126152791 0 2 3\n",
      "Snca-201 4.974764614787002 0 2 3\n",
      "Gm20594-201 5.68788069427811 0 1 4\n",
      "Atp6v1e1-201 5.112570484035401 0 3 2\n",
      "Eno2-201 5.769502749973822 2 5 0\n",
      "Tpi1-205 5.233080877673642 0 3 2\n",
      "Ptms-201 3.9371803014642968 0 2 3\n",
      "Gabarapl1-201 5.6196956068555 0 2 3\n",
      "Prkcg-201 5.36705423146714 4 5 0\n",
      "Calm3-201 5.703223400000902 0 2 3\n",
      "Apoe-206 5.600075496488741 0 3 2\n",
      "Atp1a3-201 5.872528773714948 8 5 0\n",
      "Pld3-202 5.810001926258683 0 3 2\n",
      "Cox6b1-201 5.541963970523481 0 1 4\n",
      "Mag-203 5.407806202825199 3 5 0\n",
      "Gpi1-201 5.268993344801063 5 5 0\n",
      "Snrpn-202 7.136380690917354 0 2 3\n",
      "Rab6a-201 4.894143318941185 0 2 3\n",
      "Aldoa-201 7.17966709200146 0 3 2\n",
      "Stx1b-201 5.223937068733367 0 3 2\n",
      "Cd81-201 4.931933786540325 0 4 1\n",
      "Slc25a4-201 5.5143771563699575 0 4 1\n",
      "Cpe-201 4.883891561228987 0 4 1\n",
      "Atp6v1b2-201 7.8506279090662225 0 4 1\n",
      "Rab3a-203 5.331951775483599 0 3 2\n",
      "Calr-201 4.714402929472356 2 5 0\n",
      "Mt3-201 4.345961067881955 0 1 4\n",
      "Hsbp1-201 6.14505079988784 0 1 4\n",
      "Cox4i1-205 5.433636472516243 0 3 2\n",
      "Tubb3-201 7.679951210823342 0 3 2\n",
      "Septin7-202 5.419351252703415 0 4 1\n",
      "Aplp2-201 5.203277142813037 3 5 0\n",
      "Nrgn-201 4.385193755175604 0 1 4\n",
      "Hspa8-201 4.999075680102683 3 5 0\n",
      "Thy1-201 5.6965637621458445 0 3 2\n",
      "Cox5a-201 5.217147226039434 0 3 2\n",
      "Nptn-212 5.6534713811517205 2 5 0\n",
      "Pkm-201 5.399846559018395 3 5 0\n",
      "Scg3-201 4.969722256837988 2 5 0\n",
      "Eef1a1-201 5.191025521285253 3 5 0\n",
      "Rab6b-201 5.408119079895524 0 4 1\n",
      "Camkv-201 5.660289176346762 2 5 0\n",
      "Cck-203 5.731608601085249 0 2 3\n",
      "Gja1-206 6.038714019861597 0 4 1\n",
      "Serinc1-201 5.503581048072921 3 5 0\n",
      "Spock2-201 5.647393170263617 2 5 0\n",
      "Psap-205 5.254437483201701 3 5 0\n",
      "Zwint-202 5.171932197615962 0 4 1\n",
      "Atp2b1-201 5.6481487462659015 10 5 0\n",
      "Syt1-202 5.762896872649411 0 3 2\n",
      "Myl6-201 5.123742001820791 0 3 2\n",
      "Rpl41-201 4.540273759915327 0 0 2\n",
      "Camk2b-209 5.141309723889959 2 5 0\n",
      "Ppia-202 5.493818325549032 0 3 2\n",
      "Ppp3r1-201 5.848818802626273 0 2 3\n",
      "Nsg2-201 5.369588631220314 0 3 2\n",
      "Canx-205 4.9380396594864155 3 5 0\n",
      "Skp1a-203 5.866263943489398 0 2 3\n",
      "Vdac1-202 5.407498379634638 0 4 1\n",
      "Sparc-201 5.511336897754191 0 3 2\n",
      "Gria1-202 5.367864468148645 7 5 0\n",
      "Arf1-202 4.825505501946274 0 1 4\n",
      "Ubb-201 9.794460793547191 0 4 1\n",
      "Vamp2-201 4.8818977640783245 0 3 2\n",
      "Eif4a1-213 5.192929789230563 3 5 0\n",
      "Ywhae-201 4.161895775086926 0 2 3\n",
      "Cltc-202 5.133840457964354 19 5 0\n",
      "Dynll2-201 3.9755879524853857 0 1 4\n",
      "Eif1-201 8.473888913400602 0 1 4\n",
      "Cnp-201 5.627346587830676 3 5 0\n",
      "Nsf-202 4.786426265956676 5 5 0\n",
      "Rpl38-203 7.1168732637041865 0 2 3\n",
      "Atp5h-203 5.148917829303437 0 2 3\n",
      "Sumo2-207 4.708177175589271 0 1 4\n",
      "Vsnl1-201 5.205662055886197 0 4 1\n",
      "Rtn1-201 4.644065925869459 0 3 2\n",
      "Calm1-202 6.120616797690717 0 1 4\n",
      "Hsp90aa1-202 5.208432786900398 4 5 0\n",
      "Ckb-201 5.761868626989788 3 5 0\n",
      "Tubb2a-201 7.8419728658593515 1 5 0\n",
      "Cplx2-201 4.519116157303546 0 2 3\n",
      "Sncb-201 5.367401818976277 0 1 4\n",
      "Uqcrb-201 6.177771021494132 0 1 4\n",
      "Cox7c-203 4.343922363326086 0 1 4\n",
      "Map1b-201 5.533262999518042 27 5 0\n",
      "Hmgcs1-202 5.300538240759197 1 5 0\n",
      "Ndrg2-202 5.9133172335954 0 2 3\n",
      "Clu-201 4.9647149720610475 1 5 0\n",
      "Stmn4-201 4.872945940668277 0 2 3\n",
      "Dpysl2-201 4.851851676333222 4 5 0\n",
      "Nefl-201 5.061202216129143 1 5 0\n",
      "Itm2b-201 5.179663694851874 0 3 2\n",
      "Slc1a3-201 5.437428297583384 6 5 0\n",
      "Sub1-201 4.382672141294022 0 1 4\n",
      "Basp1-201 5.905083172503358 1 5 0\n",
      "Cox6c-203 5.230649742053059 0 2 3\n",
      "Ywhaz-201 5.7003665931851 0 1 4\n",
      "Atxn10-201 5.028337521330135 1 5 0\n",
      "Arf3-201 5.575294429104744 0 3 2\n",
      "Tuba1a-201 11.562478919907836 2 5 0\n",
      "Mapk1-201 5.171189102609215 1 5 0\n",
      "Ap2m1-201 5.4551163961252795 1 5 0\n",
      "Fam131a-201 7.351047119058191 0 2 3\n",
      "Sst-201 6.3710157279161 0 2 3\n",
      "Atp6v1a-202 5.78908032064675 1 5 0\n",
      "App-206 5.592926683599758 3 5 0\n",
      "Ppp2r1a-201 8.426137348802358 0 2 3\n",
      "Atp6v0c-201 5.558724599937341 0 1 4\n",
      "Atp6v1g2-201 5.783987448469254 0 2 3\n",
      "Tubb5-201 5.312423876154819 2 5 0\n",
      "Hsp90ab1-201 5.418295356897967 0 4 1\n",
      "Tubb4a-201 5.796586421058659 4 5 0\n",
      "Pja2-204 5.021099278896871 4 5 0\n",
      "Prepl-201 5.493638152157295 5 5 0\n",
      "Calm2-201 4.396141967714162 0 3 2\n",
      "Matr3-201 5.524263249518353 4 5 0\n",
      "Ndfip1-204 5.022428463990682 0 4 1\n",
      "Camk2a-203 4.795217520518729 3 5 0\n",
      "Atp5a1-201 5.357005895186204 4 5 0\n",
      "Mbp-212 4.935375693482289 0 3 2\n",
      "Cfl1-202 4.799384408648278 0 1 4\n",
      "Cox8a-201 4.880212132815959 0 1 4\n",
      "Rtn3-203 5.77417746586157 0 2 3\n",
      "Pgam1-201 5.4738259943125165 0 3 2\n",
      "Scd2-201 6.266602008492429 0 4 1\n",
      "Syp-201 5.2001684970936175 0 3 2\n",
      "Atp6ap2-201 5.382738901625841 1 5 0\n",
      "Syn1-202 6.156581981335874 10 5 0\n",
      "Gdi1-201 5.232667624937825 1 5 0\n",
      "Cox7b-201 4.5807316147498005 0 1 4\n",
      "Pgk1-201 5.121703813162036 0 4 1\n",
      "Plp1-202 4.72821202473518 0 3 2\n",
      "Gpm6b-201 5.242231683403174 1 5 0\n",
      "Tmsb4x-201 5.021033062703057 0 1 4\n",
      "Sum of Unique Stall Sites (Z-Scores): 317\n",
      "Sum of Intersecting Stall Sites: 753\n",
      "Sum of Unique Stall Sites (Occupancy Scores): 304\n"
     ]
    }
   ],
   "source": [
    "constant_threshold = 6.5\n",
    "transcripts = occ_scores.keys()\n",
    "\n",
    "# Initialize variables to keep track of counts\n",
    "sum_unique_z = 0\n",
    "sum_intersection = 0\n",
    "sum_unique_occ = 0\n",
    "\n",
    "for transcript in transcripts:\n",
    "    # Calculate the variable threshold for each transcript\n",
    "    variable_threshold = np.mean(occ_scores[transcript]) + 1.5 * np.std(occ_scores[transcript]) \n",
    "    \n",
    "    # Get stall sites for z-scores and occupancy scores\n",
    "    stall_sites_z = np.where(zscores[transcript] > constant_threshold)[0]\n",
    "    \n",
    "    stall_sites_occ = np.where(occ_scores[transcript] > variable_threshold)[0]\n",
    "    # Comment out if modifying occupancy score threshold\n",
    "    sorted_indices = stall_sites_occ[np.argsort(occ_scores[transcript][stall_sites_occ])[::-1]]\n",
    "    stall_sites_occ = sorted_indices[:5]\n",
    "    \n",
    "    # Calculate unique and intersecting stall sites for each transcript\n",
    "    unique_z = len(set(stall_sites_z) - set(stall_sites_occ))\n",
    "    intersection = len(set(stall_sites_z).intersection(stall_sites_occ))\n",
    "    unique_occ = len(set(stall_sites_occ) - set(stall_sites_z))\n",
    "    \n",
    "    if unique_z > 0 or unique_occ > 0:\n",
    "        print(transcript, variable_threshold, unique_z, intersection, unique_occ)\n",
    "    \n",
    "    # Update the sum of counts across transcripts\n",
    "    sum_unique_z += unique_z\n",
    "    sum_intersection += intersection\n",
    "    sum_unique_occ += unique_occ"
   ]
  },
  {
   "cell_type": "code",
   "execution_count": 139,
   "id": "d723fcda",
   "metadata": {},
   "outputs": [],
   "source": [
    "# Set font size\n",
    "plt.rcParams['font.size'] = 16\n",
    "\n",
    "# Plot the Venn diagram\n",
    "plt.figure()\n",
    "venn = venn2(subsets=(sum_unique_z, sum_unique_occ, sum_intersection),\n",
    "             set_labels=('Z-Scores', 'Occupancy Scores'))\n",
    "plt.text(-0.3, -0.8, f'Constant Threshold = {constant_threshold}', fontsize=16)\n",
    "plt.savefig('venn.png')"
   ]
  },
  {
   "cell_type": "code",
   "execution_count": 42,
   "id": "44cb8454",
   "metadata": {},
   "outputs": [],
   "source": [
    "transcript = 'Cpne6-201'\n",
    "plt.figure()\n",
    "plt.bar(range(len(coverage[transcript])), coverage[transcript])\n",
    "plt.xlabel('Nucleotide Position', fontsize=16)\n",
    "plt.ylabel('Coverage', fontsize=16)\n",
    "plt.tick_params(axis='both', which='major', labelsize=16)"
   ]
  },
  {
   "cell_type": "code",
   "execution_count": 43,
   "id": "0c3d5370",
   "metadata": {},
   "outputs": [
    {
     "data": {
      "text/plain": [
       "array([718, 820, 823, 826, 901])"
      ]
     },
     "execution_count": 43,
     "metadata": {},
     "output_type": "execute_result"
    }
   ],
   "source": [
    "# constant_threshold = 5.0\n",
    "stall_sites_z = np.where(zscores[transcript] > constant_threshold)[0]\n",
    "stall_sites_z"
   ]
  },
  {
   "cell_type": "code",
   "execution_count": 44,
   "id": "ddbe6dcd",
   "metadata": {},
   "outputs": [
    {
     "data": {
      "text/plain": [
       "array([826, 820, 823, 718, 901])"
      ]
     },
     "execution_count": 44,
     "metadata": {},
     "output_type": "execute_result"
    }
   ],
   "source": [
    "variable_threshold = np.mean(occ_scores[transcript]) + 1.5 * np.std(occ_scores[transcript]) \n",
    "stall_sites_occ = np.where(occ_scores[transcript] > variable_threshold)[0]\n",
    "\n",
    "scores = occ_scores[transcript]\n",
    "stall_sites = np.where(scores > variable_threshold)[0]\n",
    "sorted_indices = stall_sites[np.argsort(scores[stall_sites])[::-1]]\n",
    "stall_sites_occ = sorted_indices[:5]\n",
    "stall_sites_occ"
   ]
  },
  {
   "cell_type": "code",
   "execution_count": 125,
   "id": "2a013a0e",
   "metadata": {},
   "outputs": [],
   "source": [
    "count_occ = 0\n",
    "for pos in stall_sites_occ:\n",
    "    if count_occ == 0:\n",
    "        plt.axvline(x=pos, color='y', linestyle='--', label='Stall Sites - Occupancy Scores')\n",
    "        count_occ += 1\n",
    "    else:\n",
    "        plt.axvline(x=pos, color='y', linestyle='--')\n",
    "    \n",
    "count_z = 0\n",
    "for pos in stall_sites_z:\n",
    "    if count_z == 0:\n",
    "        plt.axvline(x=pos, color='g', linestyle='--', label='Stall Sites - Z-Scores')\n",
    "        count_z += 1\n",
    "    else:\n",
    "        plt.axvline(x=pos, color='g', linestyle='--')\n",
    "    \n",
    "intersection = np.intersect1d(stall_sites_occ, stall_sites_z)\n",
    "# Plotting the intersection\n",
    "count_int = 0\n",
    "for pos in intersection:\n",
    "    if count_int == 0:\n",
    "        plt.axvline(x=pos, color='r', linestyle='--', label='Intersection')\n",
    "        count_int += 1\n",
    "    else:\n",
    "        plt.axvline(x=pos, color='r', linestyle='--',)\n",
    "\n",
    "# Adding legend\n",
    "plt.legend(loc='upper right', fontsize=14)\n",
    "\n",
    "plt.savefig('coverage_stall_sites.png')"
   ]
  },
  {
   "cell_type": "code",
   "execution_count": 129,
   "id": "1fea172d",
   "metadata": {},
   "outputs": [],
   "source": [
    "transcripts = occ_scores.keys()\n",
    "count_z = 0\n",
    "count_occ = 0\n",
    "for transcript in transcripts:\n",
    "    stall_sites_z = np.where(zscores[transcript] > constant_threshold)[0]\n",
    "    stall_sites_occ = np.where(occ_scores[transcript] > variable_threshold)[0]\n",
    "    count_z += len(stall_sites_z)\n",
    "    count_occ += len(stall_sites_occ)"
   ]
  },
  {
   "cell_type": "markdown",
   "id": "f709b864",
   "metadata": {},
   "source": [
    "### Constant vs. Percentile-Based Threshold"
   ]
  },
  {
   "cell_type": "code",
   "execution_count": 24,
   "id": "95295449",
   "metadata": {},
   "outputs": [],
   "source": [
    "# Concatenate all z-scores values\n",
    "zscores_values = np.concatenate(list(zscores.values()))\n",
    "\n",
    "# Calculate constant threshold\n",
    "constant_threshold = np.percentile(zscores_values, 99.55)\n",
    "\n",
    "# Get transcripts\n",
    "transcripts = occ_scores.keys()\n",
    "\n",
    "# Initialize variables to keep track of counts\n",
    "sum_unique_c = 0\n",
    "sum_intersection = 0\n",
    "sum_unique_p = 0\n",
    "\n",
    "count_c = []\n",
    "count_p = []\n",
    "\n",
    "for transcript in transcripts:\n",
    "    # Calculate percentile-based threshold for each transcript\n",
    "    percentile_threshold = np.percentile(zscores[transcript], 99.55)\n",
    "    \n",
    "    # Get stall sites for each method\n",
    "    stall_sites_c = np.where(zscores[transcript] > constant_threshold)[0]\n",
    "    stall_sites_p = np.where(zscores[transcript] > percentile_threshold)[0]\n",
    "    \n",
    "    # Calculate unique and intersecting stall sites for each transcript\n",
    "    unique_c = len(set(stall_sites_c) - set(stall_sites_p))\n",
    "    intersection = len(set(stall_sites_c).intersection(stall_sites_p))\n",
    "    unique_p = len(set(stall_sites_p) - set(stall_sites_c))\n",
    "    \n",
    "    # Update the sum of counts across transcripts\n",
    "    sum_unique_c += unique_c\n",
    "    sum_intersection += intersection\n",
    "    sum_unique_p += unique_p\n",
    "    \n",
    "    count_c.append(unique_c)\n",
    "    count_p.append(unique_p)"
   ]
  },
  {
   "cell_type": "code",
   "execution_count": 27,
   "id": "58758f60",
   "metadata": {},
   "outputs": [
    {
     "name": "stdout",
     "output_type": "stream",
     "text": [
      "Paired t-test Results:\n",
      "t-statistic: -2.3182877467881333\n",
      "p-value: 0.02139144278801359\n"
     ]
    }
   ],
   "source": [
    "t_statistic, p_value = stats.ttest_rel(count_c, count_p)\n",
    "\n",
    "# Print results\n",
    "print(\"Paired t-test Results:\")\n",
    "print(\"t-statistic:\", t_statistic)\n",
    "print(\"p-value:\", p_value)"
   ]
  },
  {
   "cell_type": "code",
   "execution_count": 19,
   "id": "baff3064",
   "metadata": {},
   "outputs": [],
   "source": [
    "# Venn Diagram\n",
    "\n",
    "# Set font size\n",
    "plt.rcParams['font.size'] = 16\n",
    "\n",
    "# Plot the Venn diagram\n",
    "plt.figure()\n",
    "venn = venn2(subsets=(sum_unique_c, sum_unique_p, sum_intersection),\n",
    "             set_labels=('Constant', 'Percentile'))\n",
    "plt.savefig('venn_cp.png')"
   ]
  },
  {
   "cell_type": "code",
   "execution_count": 126,
   "id": "6893ba3e",
   "metadata": {},
   "outputs": [],
   "source": [
    "# transcript = 'Atp5g3-202'\n",
    "transcript = 'Dbi-201'\n",
    "plt.figure()\n",
    "plt.bar(range(len(coverage[transcript])), np.clip(zscores[transcript], a_min=0, a_max=None))\n",
    "plt.xlabel('Nucleotide Position', fontsize=16)\n",
    "plt.ylabel('Z-Scores', fontsize=16)\n",
    "plt.tick_params(axis='both', which='major', labelsize=16)\n",
    "\n",
    "# Find stall sites for constant threshold\n",
    "stall_sites_c = np.where(zscores[transcript] > c_threshold)[0]\n",
    "# Percentile-based threshold\n",
    "v_threshold = np.percentile(zscores[transcript], 99.55)\n",
    "stall_sites_v = np.where(zscores[transcript] > v_threshold)[0]\n",
    "\n",
    "\n",
    "count_c = 0\n",
    "for pos in stall_sites_c:\n",
    "    if count_c == 0:\n",
    "        plt.axvline(x=pos, color='y', linestyle='--', label='Stall Sites - Constant Threshold',)\n",
    "        count_c += 1\n",
    "    else:\n",
    "        plt.axvline(x=pos, color='y', linestyle='--')\n",
    "        \n",
    "count_v = 0\n",
    "for pos in stall_sites_v:\n",
    "    if count_v == 0:\n",
    "        plt.axvline(x=pos, color='g', linestyle='--', label='Stall Sites - Percentile-Based Threshold')\n",
    "        count_v += 1\n",
    "    else:\n",
    "        plt.axvline(x=pos, color='g', linestyle='--')\n",
    "    \n",
    "intersection = np.intersect1d(stall_sites_c, stall_sites_v)\n",
    "# Plotting the intersection\n",
    "count_int = 0\n",
    "for pos in intersection:\n",
    "    if count_int == 0:\n",
    "        plt.axvline(x=pos, color='r', linestyle='--', label='Intersection')\n",
    "        count_int += 1\n",
    "    else:\n",
    "        plt.axvline(x=pos, color='r', linestyle='--')\n",
    "\n",
    "# Adding legend\n",
    "plt.legend(loc='upper left', fontsize=14)\n",
    "plt.savefig('coverage_stall_sites.png')\n",
    "Image.open('coverage_stall_sites.png').show()"
   ]
  },
  {
   "cell_type": "code",
   "execution_count": 123,
   "id": "fd31ac00",
   "metadata": {},
   "outputs": [
    {
     "data": {
      "text/plain": [
       "array([280, 283])"
      ]
     },
     "execution_count": 123,
     "metadata": {},
     "output_type": "execute_result"
    }
   ],
   "source": [
    "stall_sites_v"
   ]
  },
  {
   "cell_type": "code",
   "execution_count": 78,
   "id": "0b01fa2d",
   "metadata": {},
   "outputs": [],
   "source": [
    "# Set font size\n",
    "plt.rcParams['font.size'] = 16\n",
    "\n",
    "# Plot the Venn diagram\n",
    "plt.figure()\n",
    "venn = venn2(subsets=(sum_unique_c, sum_unique_v, sum_int),\n",
    "             set_labels=('Constant Threshold = 6.5', '99th Percentile Threshold For Each Transcript'))\n",
    "# plt.text(-0.3, -0.8, f'Constant Threshold = {constant_threshold}', fontsize=16)\n",
    "plt.savefig('venn_cv.png')"
   ]
  },
  {
   "cell_type": "code",
   "execution_count": null,
   "id": "a64e01d9",
   "metadata": {},
   "outputs": [],
   "source": []
  }
 ],
 "metadata": {
  "kernelspec": {
   "display_name": "Python 3 (ipykernel)",
   "language": "python",
   "name": "python3"
  },
  "language_info": {
   "codemirror_mode": {
    "name": "ipython",
    "version": 3
   },
   "file_extension": ".py",
   "mimetype": "text/x-python",
   "name": "python",
   "nbconvert_exporter": "python",
   "pygments_lexer": "ipython3",
   "version": "3.9.13"
  }
 },
 "nbformat": 4,
 "nbformat_minor": 5
}
