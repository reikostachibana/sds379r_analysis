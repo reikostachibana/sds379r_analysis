{
 "cells": [
  {
   "cell_type": "code",
   "execution_count": 1,
   "id": "e3845a4c",
   "metadata": {},
   "outputs": [],
   "source": [
    "import ribopy\n",
    "from ribopy import Ribo\n",
    "from functions import get_sequence, get_cds_range_lookup, get_psite_offset\n",
    "import matplotlib.pyplot as plt\n",
    "import numpy as np\n",
    "from scipy import stats\n",
    "import pickle\n",
    "from matplotlib_venn import venn2\n",
    "from scipy.stats import zscore\n",
    "from PIL import Image"
   ]
  },
  {
   "cell_type": "code",
   "execution_count": 2,
   "id": "c3caa6fd",
   "metadata": {},
   "outputs": [],
   "source": [
    "# Initialize ribo object\n",
    "ribo_path = '/Users/reikotachibana/Documents/ribopy_mouse/data/all.ribo'\n",
    "ribo_object = Ribo(ribo_path, alias = ribopy.api.alias.apris_human_alias)\n",
    "alias = True"
   ]
  },
  {
   "cell_type": "markdown",
   "id": "344e16c7",
   "metadata": {},
   "source": [
    "# Quality control\n",
    "\n",
    "### Distribution of read lengths "
   ]
  },
  {
   "cell_type": "code",
   "execution_count": 3,
   "id": "e9b28a9b",
   "metadata": {},
   "outputs": [
    {
     "data": {
      "text/plain": [
       "<matplotlib.legend.Legend at 0x7f7983ab73a0>"
      ]
     },
     "execution_count": 3,
     "metadata": {},
     "output_type": "execute_result"
    }
   ],
   "source": [
    "# Plot length distribution\n",
    "# Used to determine read lengths to be analyzed\n",
    "\n",
    "# Retrieve information \n",
    "experiments = ribo_object.experiments\n",
    "length_dist = ribo_object.get_length_dist(region_name = \"CDS\")\n",
    "selected_data = length_dist.loc[:, experiments]\n",
    "norm_data = selected_data.div(selected_data.sum(axis=0), axis=1) * 100\n",
    "\n",
    "# Plot\n",
    "plt.figure()\n",
    "for experiment in experiments:\n",
    "    plt.plot(norm_data.index, norm_data[experiment], label=experiment)\n",
    "\n",
    "plt.xlabel('Read Length', fontsize=16)\n",
    "plt.ylabel('Frequency (%)', fontsize=16)\n",
    "plt.tick_params(axis='both', which='major', labelsize=16) \n",
    "plt.legend(fontsize=16)\n",
    "# plt.savefig('length_dist.png')"
   ]
  },
  {
   "cell_type": "markdown",
   "id": "d87cd588",
   "metadata": {},
   "source": [
    "Read lengths to be analyzed were determined to be 25-31 nucleotides.\n",
    "\n",
    "Experiments to be analyzed were determined to be ['WT_control_A', 'WT_10min_A', 'WT_30min_A', 'WT_1hr_A']"
   ]
  },
  {
   "cell_type": "code",
   "execution_count": 4,
   "id": "887aa6e1",
   "metadata": {},
   "outputs": [],
   "source": [
    "# Initialize variables\n",
    "min_len = 25\n",
    "max_len = 31\n",
    "experiments = ['WT_control_A', 'WT_10min_A', 'WT_30min_A', 'WT_1hr_A']"
   ]
  },
  {
   "cell_type": "markdown",
   "id": "a2395d03",
   "metadata": {},
   "source": [
    "### Metagene plot"
   ]
  },
  {
   "cell_type": "code",
   "execution_count": 5,
   "id": "039b5f35",
   "metadata": {},
   "outputs": [
    {
     "data": {
      "text/plain": [
       "<matplotlib.legend.Legend at 0x7f79844016a0>"
      ]
     },
     "execution_count": 5,
     "metadata": {},
     "output_type": "execute_result"
    }
   ],
   "source": [
    "# Plot metagene radius\n",
    "# Used to determine the P-site offset\n",
    "\n",
    "# Retrieve information\n",
    "metagene = ribo_object.get_metagene(site_type=\"start\", range_lower = 25, range_upper = 31)\n",
    "selected_col = [i for i in range(-50,51)]\n",
    "metagene_selected = metagene[selected_col]\n",
    "selected_rows = metagene_selected.loc[experiments]\n",
    "selected_rows = selected_rows.T\n",
    "\n",
    "# Plot\n",
    "plt.figure()  \n",
    "for col in selected_rows.columns:\n",
    "    plt.plot(selected_rows.index, selected_rows[col], label=col)\n",
    "\n",
    "plt.xlabel('Position', fontsize=16)\n",
    "plt.ylabel('Frequency', fontsize=16)\n",
    "plt.tick_params(axis='both', which='major', labelsize=16)\n",
    "plt.legend(fontsize=16)\n",
    "# plt.savefig('metagene.png')"
   ]
  },
  {
   "cell_type": "markdown",
   "id": "37ec2fdd",
   "metadata": {},
   "source": [
    "P-site was calculated using the function get_psite_offset() in functions.py"
   ]
  },
  {
   "cell_type": "markdown",
   "id": "824bbc72",
   "metadata": {},
   "source": [
    "# Analysis"
   ]
  },
  {
   "cell_type": "markdown",
   "id": "8586ef87",
   "metadata": {},
   "source": [
    "### Normalization\n",
    "\n",
    "Adjusted coverage data of WT_control_A was compiled as adj_coverage_filtered_WT_control_A.pkl using adj_coverage_filtered.py"
   ]
  },
  {
   "cell_type": "code",
   "execution_count": 6,
   "id": "537e7cb8",
   "metadata": {},
   "outputs": [],
   "source": [
    "# Import pickle file containing processed coverage data\n",
    "pickle_path = '/Users/reikotachibana/Documents/ribopy_mouse/data/adj_coverage_filtered_WT_control_A_28.pkl'\n",
    "with open(pickle_path, \"rb\") as f:\n",
    "    coverage = pickle.load(f)"
   ]
  },
  {
   "cell_type": "code",
   "execution_count": 7,
   "id": "c20dd52f",
   "metadata": {
    "scrolled": true
   },
   "outputs": [],
   "source": [
    "# Normalize coverage data into z-scores\n",
    "zscores = {transcript: zscore(coverage) for transcript, coverage in coverage.items() if coverage is not None}\n",
    "\n",
    "# Normalize into ribosome occupancy scores\n",
    "occ_scores = {transcript: coverage / np.mean(coverage) for transcript, coverage in coverage.items() if coverage is not None}"
   ]
  },
  {
   "cell_type": "code",
   "execution_count": 8,
   "id": "6f79d5ce",
   "metadata": {},
   "outputs": [
    {
     "name": "stdout",
     "output_type": "stream",
     "text": [
      "Correlation Coefficient: 0.9838822257588958\n"
     ]
    }
   ],
   "source": [
    "# Visualize relationship between two normalization methods\n",
    "# 1) Z-scores and 2) ribosome occupancy scores\n",
    "# Also find correlation coefficient\n",
    "\n",
    "zscores_values = np.concatenate(list(zscores.values()))\n",
    "occ_scores_values = np.concatenate(list(occ_scores.values()))\n",
    "\n",
    "# Fit a linear trendline\n",
    "slope, intercept = np.polyfit(zscores_values.flatten(), occ_scores_values.flatten(), 1)\n",
    "\n",
    "# Calculate correlation coefficient\n",
    "correlation_coefficient = np.corrcoef(zscores_values.flatten(), occ_scores_values.flatten())[0, 1]\n",
    "\n",
    "# Create a scatter plot\n",
    "plt.figure()\n",
    "plt.scatter(zscores_values.flatten(), occ_scores_values.flatten(), alpha=0.5)\n",
    "plt.plot(zscores_values.flatten(), slope * zscores_values.flatten() + intercept, color='red', label=f'Trendline: y = {slope:.2f}x + {intercept:.2f}')\n",
    "plt.xlabel('Z-scores', fontsize=16)\n",
    "plt.ylabel('Ribosome Occupancy Scores', fontsize=16)\n",
    "plt.tick_params(axis='both', which='major', labelsize=16)\n",
    "plt.legend(fontsize=12)\n",
    "plt.text(0.7, 0.05, f'Correlation Coefficient: {correlation_coefficient:.2f}', transform=plt.gca().transAxes, fontsize=16)\n",
    "# plt.savefig('norm_comparison.png')\n",
    "\n",
    "print(\"Correlation Coefficient:\", correlation_coefficient)"
   ]
  },
  {
   "cell_type": "markdown",
   "id": "90ef1285",
   "metadata": {},
   "source": [
    "### Determination of Stall Sites Using Z-Scores vs. Ribosome Occupancy Scores"
   ]
  },
  {
   "cell_type": "code",
   "execution_count": 9,
   "id": "648b3b01",
   "metadata": {},
   "outputs": [],
   "source": [
    "# Find number of stall sites \n",
    "# 1) unique to the z-scores method, \n",
    "# 2) unique to the ribosome occupancy method, and \n",
    "# 3) the intersection of both methods\n",
    "\n",
    "constant_threshold = 6.5\n",
    "transcripts = occ_scores.keys()\n",
    "\n",
    "# Initialize variables to keep track of counts\n",
    "sum_unique_z = 0\n",
    "sum_intersection = 0\n",
    "sum_unique_occ = 0\n",
    "\n",
    "for transcript in transcripts:\n",
    "    # Calculate the variable threshold for each transcript\n",
    "    variable_threshold = np.mean(occ_scores[transcript]) + 1.5 * np.std(occ_scores[transcript]) \n",
    "    \n",
    "    # Get stall sites for z-scores and occupancy scores\n",
    "    stall_sites_z = np.where(zscores[transcript] > constant_threshold)[0]\n",
    "    \n",
    "    stall_sites_occ = np.where(occ_scores[transcript] > variable_threshold)[0]\n",
    "    # Comment out if modifying occupancy score threshold\n",
    "    sorted_indices = stall_sites_occ[np.argsort(occ_scores[transcript][stall_sites_occ])[::-1]]\n",
    "    stall_sites_occ = sorted_indices[:5]\n",
    "    \n",
    "    # Calculate unique and intersecting stall sites for each transcript\n",
    "    unique_z = len(set(stall_sites_z) - set(stall_sites_occ))\n",
    "    intersection = len(set(stall_sites_z).intersection(stall_sites_occ))\n",
    "    unique_occ = len(set(stall_sites_occ) - set(stall_sites_z))\n",
    "    \n",
    "    # Update the sum of counts across transcripts\n",
    "    sum_unique_z += unique_z\n",
    "    sum_intersection += intersection\n",
    "    sum_unique_occ += unique_occ"
   ]
  },
  {
   "cell_type": "code",
   "execution_count": 10,
   "id": "d723fcda",
   "metadata": {},
   "outputs": [
    {
     "data": {
      "text/plain": [
       "Text(-0.3, -0.8, 'Constant Threshold = 6.5')"
      ]
     },
     "execution_count": 10,
     "metadata": {},
     "output_type": "execute_result"
    }
   ],
   "source": [
    "# Plot  Venn diagram of z-scores and occupancy scores\n",
    "plt.rcParams['font.size'] = 16\n",
    "plt.figure()\n",
    "venn = venn2(subsets=(sum_unique_z, sum_unique_occ, sum_intersection),\n",
    "             set_labels=('Z-Scores', 'Occupancy Scores'))\n",
    "plt.text(-0.3, -0.8, f'Constant Threshold = {constant_threshold}', fontsize=16)\n",
    "# plt.savefig('venn.png')"
   ]
  },
  {
   "cell_type": "code",
   "execution_count": 11,
   "id": "0c3d5370",
   "metadata": {
    "scrolled": true
   },
   "outputs": [
    {
     "data": {
      "text/plain": [
       "<matplotlib.legend.Legend at 0x7f7970a6c0d0>"
      ]
     },
     "execution_count": 11,
     "metadata": {},
     "output_type": "execute_result"
    }
   ],
   "source": [
    "# Plot coverage data using stall sites determined using 1) z-scores and 2) occupancy scores\n",
    "# Compare and contrast between different transcripts\n",
    "\n",
    "# Plot coverage data\n",
    "transcript = 'Cpne6-201'\n",
    "plt.figure()\n",
    "plt.bar(range(len(coverage[transcript])), coverage[transcript])\n",
    "plt.xlabel('Nucleotide Position', fontsize=16)\n",
    "plt.ylabel('Coverage', fontsize=16)\n",
    "plt.tick_params(axis='both', which='major', labelsize=16)\n",
    "\n",
    "# Find stall sites using z-scores\n",
    "constant_threshold = 5.0\n",
    "stall_sites_z = np.where(zscores[transcript] > constant_threshold)[0]\n",
    "\n",
    "# Find stall sites using occupancy scores\n",
    "variable_threshold = np.mean(occ_scores[transcript]) + 1.5 * np.std(occ_scores[transcript]) \n",
    "stall_sites_occ = np.where(occ_scores[transcript] > variable_threshold)[0]\n",
    "\n",
    "scores = occ_scores[transcript]\n",
    "stall_sites = np.where(scores > variable_threshold)[0]\n",
    "sorted_indices = stall_sites[np.argsort(scores[stall_sites])[::-1]]\n",
    "stall_sites_occ = sorted_indices[:5]\n",
    "\n",
    "# Plot stall sites determined using occupancy scores\n",
    "count_occ = 0\n",
    "for pos in stall_sites_occ:\n",
    "    if count_occ == 0:\n",
    "        plt.axvline(x=pos, color='y', linestyle='--', label='Stall Sites - Occupancy Scores')\n",
    "        count_occ += 1\n",
    "    else:\n",
    "        plt.axvline(x=pos, color='y', linestyle='--')\n",
    "\n",
    "# Plot stall sites determined using z-scores\n",
    "count_z = 0\n",
    "for pos in stall_sites_z:\n",
    "    if count_z == 0:\n",
    "        plt.axvline(x=pos, color='g', linestyle='--', label='Stall Sites - Z-Scores')\n",
    "        count_z += 1\n",
    "    else:\n",
    "        plt.axvline(x=pos, color='g', linestyle='--')\n",
    "    \n",
    "intersection = np.intersect1d(stall_sites_occ, stall_sites_z)\n",
    "\n",
    "# Plotting the intersection\n",
    "count_int = 0\n",
    "for pos in intersection:\n",
    "    if count_int == 0:\n",
    "        plt.axvline(x=pos, color='r', linestyle='--', label='Intersection')\n",
    "        count_int += 1\n",
    "    else:\n",
    "        plt.axvline(x=pos, color='r', linestyle='--',)\n",
    "\n",
    "plt.legend(loc='upper right', fontsize=14)\n",
    "# plt.savefig('coverage_stall_sites.png')"
   ]
  },
  {
   "cell_type": "markdown",
   "id": "f709b864",
   "metadata": {},
   "source": [
    "### Constant vs. Percentile-Based Threshold"
   ]
  },
  {
   "cell_type": "code",
   "execution_count": 12,
   "id": "95295449",
   "metadata": {},
   "outputs": [],
   "source": [
    "# Find stall sites using constant and percentile-based thresholds and compare\n",
    "# \n",
    "\n",
    "# Concatenate all z-scores values\n",
    "zscores_values = np.concatenate(list(zscores.values()))\n",
    "\n",
    "# Calculate constant threshold\n",
    "constant_threshold = np.percentile(zscores_values, 99.55)\n",
    "\n",
    "# Get transcripts\n",
    "transcripts = occ_scores.keys()\n",
    "\n",
    "# Initialize variables to keep track of counts\n",
    "sum_unique_c = 0\n",
    "sum_intersection = 0\n",
    "sum_unique_p = 0\n",
    "\n",
    "count_c = []\n",
    "count_p = []\n",
    "\n",
    "for transcript in transcripts:\n",
    "    # Calculate percentile-based threshold for each transcript\n",
    "    percentile_threshold = np.percentile(zscores[transcript], 99.55)\n",
    "    \n",
    "    # Get stall sites for each method\n",
    "    stall_sites_c = np.where(zscores[transcript] > constant_threshold)[0]\n",
    "    stall_sites_p = np.where(zscores[transcript] > percentile_threshold)[0]\n",
    "    \n",
    "    # Calculate unique and intersecting stall sites for each transcript\n",
    "    unique_c = len(set(stall_sites_c) - set(stall_sites_p))\n",
    "    intersection = len(set(stall_sites_c).intersection(stall_sites_p))\n",
    "    unique_p = len(set(stall_sites_p) - set(stall_sites_c))\n",
    "    \n",
    "    # Update the sum of counts across transcripts\n",
    "    sum_unique_c += unique_c\n",
    "    sum_intersection += intersection\n",
    "    sum_unique_p += unique_p\n",
    "    \n",
    "    count_c.append(unique_c)\n",
    "    count_p.append(unique_p)"
   ]
  },
  {
   "cell_type": "code",
   "execution_count": 13,
   "id": "dcaa1f31",
   "metadata": {},
   "outputs": [
    {
     "name": "stdout",
     "output_type": "stream",
     "text": [
      "Paired t-test Results:\n",
      "t-statistic: -2.3182877467881333\n",
      "p-value: 0.02139144278801359\n"
     ]
    }
   ],
   "source": [
    "# Find t-statistic and p-value comparing the different threshold methods\n",
    "t_statistic, p_value = stats.ttest_rel(count_c, count_p)\n",
    "print(\"Paired t-test Results:\")\n",
    "print(\"t-statistic:\", t_statistic)\n",
    "print(\"p-value:\", p_value)"
   ]
  },
  {
   "cell_type": "code",
   "execution_count": 14,
   "id": "0b01fa2d",
   "metadata": {},
   "outputs": [],
   "source": [
    "# Venn Diagram comparing the different threshold methods\n",
    "\n",
    "# Set font size\n",
    "plt.rcParams['font.size'] = 16\n",
    "\n",
    "# Plot the Venn diagram\n",
    "plt.figure()\n",
    "venn = venn2(subsets=(sum_unique_c, sum_unique_p, sum_intersection),\n",
    "             set_labels=('Constant', 'Percentile'))\n",
    "# plt.savefig('venn_cp.png')"
   ]
  },
  {
   "cell_type": "code",
   "execution_count": 15,
   "id": "6893ba3e",
   "metadata": {},
   "outputs": [
    {
     "data": {
      "text/plain": [
       "<matplotlib.legend.Legend at 0x7f7985426970>"
      ]
     },
     "execution_count": 15,
     "metadata": {},
     "output_type": "execute_result"
    }
   ],
   "source": [
    "# Plot coverage data with stall sites annotated with the stall sites determined by the different thresholds\n",
    "\n",
    "# transcript = 'Atp5g3-202'\n",
    "transcript = 'Dbi-201'\n",
    "plt.figure()\n",
    "plt.bar(range(len(coverage[transcript])), np.clip(zscores[transcript], a_min=0, a_max=None))\n",
    "plt.xlabel('Nucleotide Position', fontsize=16)\n",
    "plt.ylabel('Z-Scores', fontsize=16)\n",
    "plt.tick_params(axis='both', which='major', labelsize=16)\n",
    "\n",
    "# Find stall sites for constant threshold\n",
    "c_threshold = 6.5\n",
    "stall_sites_c = np.where(zscores[transcript] > c_threshold)[0]\n",
    "# Percentile-based threshold\n",
    "v_threshold = np.percentile(zscores[transcript], 99.55)\n",
    "stall_sites_v = np.where(zscores[transcript] > v_threshold)[0]\n",
    "\n",
    "\n",
    "count_c = 0\n",
    "for pos in stall_sites_c:\n",
    "    if count_c == 0:\n",
    "        plt.axvline(x=pos, color='y', linestyle='--', label='Stall Sites - Constant Threshold',)\n",
    "        count_c += 1\n",
    "    else:\n",
    "        plt.axvline(x=pos, color='y', linestyle='--')\n",
    "        \n",
    "count_v = 0\n",
    "for pos in stall_sites_v:\n",
    "    if count_v == 0:\n",
    "        plt.axvline(x=pos, color='g', linestyle='--', label='Stall Sites - Percentile-Based Threshold')\n",
    "        count_v += 1\n",
    "    else:\n",
    "        plt.axvline(x=pos, color='g', linestyle='--')\n",
    "    \n",
    "intersection = np.intersect1d(stall_sites_c, stall_sites_v)\n",
    "# Plotting the intersection\n",
    "count_int = 0\n",
    "for pos in intersection:\n",
    "    if count_int == 0:\n",
    "        plt.axvline(x=pos, color='r', linestyle='--', label='Intersection')\n",
    "        count_int += 1\n",
    "    else:\n",
    "        plt.axvline(x=pos, color='r', linestyle='--')\n",
    "\n",
    "# Adding legend\n",
    "plt.legend(loc='upper left', fontsize=14)\n",
    "# plt.savefig('coverage_stall_sites.png')"
   ]
  }
 ],
 "metadata": {
  "kernelspec": {
   "display_name": "Python 3 (ipykernel)",
   "language": "python",
   "name": "python3"
  },
  "language_info": {
   "codemirror_mode": {
    "name": "ipython",
    "version": 3
   },
   "file_extension": ".py",
   "mimetype": "text/x-python",
   "name": "python",
   "nbconvert_exporter": "python",
   "pygments_lexer": "ipython3",
   "version": "3.9.13"
  }
 },
 "nbformat": 4,
 "nbformat_minor": 5
}
